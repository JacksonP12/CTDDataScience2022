{
 "cells": [
  {
   "cell_type": "code",
   "execution_count": 1,
   "id": "1e65c265",
   "metadata": {},
   "outputs": [],
   "source": [
    "def bake(pastry, shape):\n",
    "\tbaking = \"I baked a \" + pastry + \" that was shaped like a \" + shape + \".\"\n",
    "\treturn(baking)"
   ]
  },
  {
   "cell_type": "code",
   "execution_count": 4,
   "id": "f6923c71",
   "metadata": {},
   "outputs": [],
   "source": [
    "def subtract(num1, num2):\n",
    "\tresult = num1-num2\n",
    "\tequation = \"Evaluating equation \" + str(num1) + \"-\" + str(num2) + \"...\\n\" + str(num1) + \"-\" + str(num2) + \"=\" + str(result)\n",
    "\treturn(equation)"
   ]
  },
  {
   "cell_type": "code",
   "execution_count": 10,
   "id": "593718af",
   "metadata": {},
   "outputs": [
    {
     "name": "stdout",
     "output_type": "stream",
     "text": [
      "I baked a cookie that was shaped like a star.\n",
      "I baked a brownie that was shaped like a circle.\n",
      "I baked a strudel that was shaped like a triangle.\n",
      "Evaluating equation 5-3...\n",
      "5-3=2\n",
      "Evaluating equation 2-6...\n",
      "2-6=-4\n",
      "Evaluating equation 0.3-0.2...\n",
      "0.3-0.2=0.09999999999999998\n"
     ]
    }
   ],
   "source": [
    "print(bake('cookie', 'star'))\n",
    "print(bake('brownie', 'circle'))\n",
    "print(bake('strudel', 'triangle'))\n",
    "print(subtract(5,3))\n",
    "print(subtract(2,6))\n",
    "print(subtract(0.3,0.2))"
   ]
  }
 ],
 "metadata": {
  "kernelspec": {
   "display_name": "Python 3 (ipykernel)",
   "language": "python",
   "name": "python3"
  },
  "language_info": {
   "codemirror_mode": {
    "name": "ipython",
    "version": 3
   },
   "file_extension": ".py",
   "mimetype": "text/x-python",
   "name": "python",
   "nbconvert_exporter": "python",
   "pygments_lexer": "ipython3",
   "version": "3.9.12"
  }
 },
 "nbformat": 4,
 "nbformat_minor": 5
}
