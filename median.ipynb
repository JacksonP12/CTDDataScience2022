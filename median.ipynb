{
 "cells": [
  {
   "cell_type": "code",
   "execution_count": 2,
   "id": "784e0e8e",
   "metadata": {},
   "outputs": [],
   "source": [
    "import numpy as np\n",
    "def get_median(num_list):\n",
    "    #sort list\n",
    "    sorted_list = list(np.sort(num_list))\n",
    "    #calculate median\n",
    "    median_index = (len(sorted_list)/2)\n",
    "    if (median_index - np.floor(median_index)) == 0:\n",
    "        median = (sorted_list[int(median_index)] + sorted_list[int(median_index-1)]) /2\n",
    "    else:\n",
    "        median = sorted_list[int(median_index-0.5)]\n",
    "    return median"
   ]
  },
  {
   "cell_type": "code",
   "execution_count": 3,
   "id": "71220b70",
   "metadata": {},
   "outputs": [
    {
     "data": {
      "text/plain": [
       "6.0"
      ]
     },
     "execution_count": 3,
     "metadata": {},
     "output_type": "execute_result"
    }
   ],
   "source": [
    "get_median([1,2,7,12038,2,5,609123,19,782,5])"
   ]
  }
 ],
 "metadata": {
  "kernelspec": {
   "display_name": "Python 3 (ipykernel)",
   "language": "python",
   "name": "python3"
  },
  "language_info": {
   "codemirror_mode": {
    "name": "ipython",
    "version": 3
   },
   "file_extension": ".py",
   "mimetype": "text/x-python",
   "name": "python",
   "nbconvert_exporter": "python",
   "pygments_lexer": "ipython3",
   "version": "3.9.12"
  }
 },
 "nbformat": 4,
 "nbformat_minor": 5
}
